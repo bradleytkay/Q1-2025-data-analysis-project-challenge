{
 "cells": [
  {
   "cell_type": "markdown",
   "metadata": {},
   "source": [
    "# Step 1: Data Collection & Setup"
   ]
  },
  {
   "cell_type": "code",
   "execution_count": 3,
   "metadata": {},
   "outputs": [],
   "source": [
    "# Import necessary libraries\n",
    "import pandas as pd"
   ]
  },
  {
   "cell_type": "markdown",
   "metadata": {},
   "source": [
    "## A. Grocery Market Data "
   ]
  },
  {
   "cell_type": "code",
   "execution_count": 5,
   "metadata": {},
   "outputs": [
    {
     "name": "stderr",
     "output_type": "stream",
     "text": [
      "/var/folders/zf/cb3_1h9969d8z3n17n7d956r0000gn/T/ipykernel_91954/1965700471.py:1: DtypeWarning: Columns (8,9) have mixed types. Specify dtype option on import or set low_memory=False.\n",
      "  usda_ams_retail_df = pd.read_csv('MNRetailDatasetCSV.CSV')\n"
     ]
    }
   ],
   "source": [
    "# Create a dataframe from the USDA AMS \n",
    "usda_ams_retail_df = pd.read_csv('MNRetailDatasetCSV.CSV')"
   ]
  },
  {
   "cell_type": "code",
   "execution_count": 8,
   "metadata": {},
   "outputs": [
    {
     "data": {
      "text/html": [
       "<div>\n",
       "<style scoped>\n",
       "    .dataframe tbody tr th:only-of-type {\n",
       "        vertical-align: middle;\n",
       "    }\n",
       "\n",
       "    .dataframe tbody tr th {\n",
       "        vertical-align: top;\n",
       "    }\n",
       "\n",
       "    .dataframe thead th {\n",
       "        text-align: right;\n",
       "    }\n",
       "</style>\n",
       "<table border=\"1\" class=\"dataframe\">\n",
       "  <thead>\n",
       "    <tr style=\"text-align: right;\">\n",
       "      <th></th>\n",
       "      <th>LEVEL_OF_TRADE</th>\n",
       "      <th>FREQUENCY</th>\n",
       "      <th>ISSUING_OFFICE</th>\n",
       "      <th>REPORT_DATE</th>\n",
       "      <th>PROGRAM</th>\n",
       "      <th>LEVEL_1</th>\n",
       "      <th>LEVEL_2</th>\n",
       "      <th>LEVEL_3</th>\n",
       "      <th>LEVEL_4</th>\n",
       "      <th>LEVEL_5</th>\n",
       "      <th>...</th>\n",
       "      <th>STORES_WITH_ADS</th>\n",
       "      <th>STORE_OUTLETS</th>\n",
       "      <th>FEATURE_RATE</th>\n",
       "      <th>SPECIAL_RATE</th>\n",
       "      <th>ACTIVITY_INDEX</th>\n",
       "      <th>LOCALLY_GROWN_PERCENTAGE</th>\n",
       "      <th>WEIGHTED_AVERAGE_PRICE</th>\n",
       "      <th>PRICE_LOW</th>\n",
       "      <th>PRICE_HIGH</th>\n",
       "      <th>PRODUCT_QUALITY</th>\n",
       "    </tr>\n",
       "  </thead>\n",
       "  <tbody>\n",
       "    <tr>\n",
       "      <th>0</th>\n",
       "      <td>RETAIL</td>\n",
       "      <td>WEEKLY</td>\n",
       "      <td>DES MOINES, IA</td>\n",
       "      <td>30-AUG-24</td>\n",
       "      <td>POULTRY</td>\n",
       "      <td>EGGS</td>\n",
       "      <td>NaN</td>\n",
       "      <td>LIQUID</td>\n",
       "      <td>NaN</td>\n",
       "      <td>NaN</td>\n",
       "      <td>...</td>\n",
       "      <td>NaN</td>\n",
       "      <td>5500.0</td>\n",
       "      <td>NaN</td>\n",
       "      <td>NaN</td>\n",
       "      <td>65.0</td>\n",
       "      <td>NaN</td>\n",
       "      <td>NaN</td>\n",
       "      <td>NaN</td>\n",
       "      <td>NaN</td>\n",
       "      <td>NaN</td>\n",
       "    </tr>\n",
       "    <tr>\n",
       "      <th>1</th>\n",
       "      <td>RETAIL</td>\n",
       "      <td>WEEKLY</td>\n",
       "      <td>DES MOINES, IA</td>\n",
       "      <td>30-AUG-24</td>\n",
       "      <td>POULTRY</td>\n",
       "      <td>EGGS</td>\n",
       "      <td>NaN</td>\n",
       "      <td>LIQUID</td>\n",
       "      <td>NaN</td>\n",
       "      <td>NaN</td>\n",
       "      <td>...</td>\n",
       "      <td>NaN</td>\n",
       "      <td>5500.0</td>\n",
       "      <td>1.2</td>\n",
       "      <td>NaN</td>\n",
       "      <td>NaN</td>\n",
       "      <td>NaN</td>\n",
       "      <td>NaN</td>\n",
       "      <td>NaN</td>\n",
       "      <td>NaN</td>\n",
       "      <td>NaN</td>\n",
       "    </tr>\n",
       "    <tr>\n",
       "      <th>2</th>\n",
       "      <td>RETAIL</td>\n",
       "      <td>WEEKLY</td>\n",
       "      <td>DES MOINES, IA</td>\n",
       "      <td>30-AUG-24</td>\n",
       "      <td>POULTRY</td>\n",
       "      <td>EGGS</td>\n",
       "      <td>NaN</td>\n",
       "      <td>LIQUID</td>\n",
       "      <td>NaN</td>\n",
       "      <td>NaN</td>\n",
       "      <td>...</td>\n",
       "      <td>NaN</td>\n",
       "      <td>29200.0</td>\n",
       "      <td>NaN</td>\n",
       "      <td>NaN</td>\n",
       "      <td>65.0</td>\n",
       "      <td>NaN</td>\n",
       "      <td>NaN</td>\n",
       "      <td>NaN</td>\n",
       "      <td>NaN</td>\n",
       "      <td>NaN</td>\n",
       "    </tr>\n",
       "    <tr>\n",
       "      <th>3</th>\n",
       "      <td>RETAIL</td>\n",
       "      <td>WEEKLY</td>\n",
       "      <td>DES MOINES, IA</td>\n",
       "      <td>30-AUG-24</td>\n",
       "      <td>POULTRY</td>\n",
       "      <td>EGGS</td>\n",
       "      <td>NaN</td>\n",
       "      <td>LIQUID</td>\n",
       "      <td>NaN</td>\n",
       "      <td>NaN</td>\n",
       "      <td>...</td>\n",
       "      <td>NaN</td>\n",
       "      <td>29200.0</td>\n",
       "      <td>0.2</td>\n",
       "      <td>NaN</td>\n",
       "      <td>NaN</td>\n",
       "      <td>NaN</td>\n",
       "      <td>NaN</td>\n",
       "      <td>NaN</td>\n",
       "      <td>NaN</td>\n",
       "      <td>NaN</td>\n",
       "    </tr>\n",
       "    <tr>\n",
       "      <th>4</th>\n",
       "      <td>RETAIL</td>\n",
       "      <td>WEEKLY</td>\n",
       "      <td>DES MOINES, IA</td>\n",
       "      <td>30-AUG-24</td>\n",
       "      <td>POULTRY</td>\n",
       "      <td>EGGS</td>\n",
       "      <td>NaN</td>\n",
       "      <td>SHELL</td>\n",
       "      <td>ALL SHELL</td>\n",
       "      <td>NaN</td>\n",
       "      <td>...</td>\n",
       "      <td>NaN</td>\n",
       "      <td>100.0</td>\n",
       "      <td>NaN</td>\n",
       "      <td>11.0</td>\n",
       "      <td>NaN</td>\n",
       "      <td>NaN</td>\n",
       "      <td>NaN</td>\n",
       "      <td>NaN</td>\n",
       "      <td>NaN</td>\n",
       "      <td>NaN</td>\n",
       "    </tr>\n",
       "  </tbody>\n",
       "</table>\n",
       "<p>5 rows × 24 columns</p>\n",
       "</div>"
      ],
      "text/plain": [
       "  LEVEL_OF_TRADE FREQUENCY  ISSUING_OFFICE REPORT_DATE  PROGRAM LEVEL_1  \\\n",
       "0         RETAIL    WEEKLY  DES MOINES, IA   30-AUG-24  POULTRY    EGGS   \n",
       "1         RETAIL    WEEKLY  DES MOINES, IA   30-AUG-24  POULTRY    EGGS   \n",
       "2         RETAIL    WEEKLY  DES MOINES, IA   30-AUG-24  POULTRY    EGGS   \n",
       "3         RETAIL    WEEKLY  DES MOINES, IA   30-AUG-24  POULTRY    EGGS   \n",
       "4         RETAIL    WEEKLY  DES MOINES, IA   30-AUG-24  POULTRY    EGGS   \n",
       "\n",
       "  LEVEL_2 LEVEL_3    LEVEL_4 LEVEL_5  ... STORES_WITH_ADS STORE_OUTLETS  \\\n",
       "0     NaN  LIQUID        NaN     NaN  ...             NaN        5500.0   \n",
       "1     NaN  LIQUID        NaN     NaN  ...             NaN        5500.0   \n",
       "2     NaN  LIQUID        NaN     NaN  ...             NaN       29200.0   \n",
       "3     NaN  LIQUID        NaN     NaN  ...             NaN       29200.0   \n",
       "4     NaN   SHELL  ALL SHELL     NaN  ...             NaN         100.0   \n",
       "\n",
       "  FEATURE_RATE SPECIAL_RATE  ACTIVITY_INDEX  LOCALLY_GROWN_PERCENTAGE  \\\n",
       "0          NaN          NaN            65.0                       NaN   \n",
       "1          1.2          NaN             NaN                       NaN   \n",
       "2          NaN          NaN            65.0                       NaN   \n",
       "3          0.2          NaN             NaN                       NaN   \n",
       "4          NaN         11.0             NaN                       NaN   \n",
       "\n",
       "   WEIGHTED_AVERAGE_PRICE  PRICE_LOW  PRICE_HIGH  PRODUCT_QUALITY  \n",
       "0                     NaN        NaN         NaN              NaN  \n",
       "1                     NaN        NaN         NaN              NaN  \n",
       "2                     NaN        NaN         NaN              NaN  \n",
       "3                     NaN        NaN         NaN              NaN  \n",
       "4                     NaN        NaN         NaN              NaN  \n",
       "\n",
       "[5 rows x 24 columns]"
      ]
     },
     "execution_count": 8,
     "metadata": {},
     "output_type": "execute_result"
    }
   ],
   "source": [
    "# Get an overview of the df with a .head()\n",
    "usda_ams_retail_df.head(5)"
   ]
  },
  {
   "cell_type": "code",
   "execution_count": 7,
   "metadata": {},
   "outputs": [
    {
     "data": {
      "text/plain": [
       "Index(['LEVEL_OF_TRADE', 'FREQUENCY', 'ISSUING_OFFICE', 'REPORT_DATE',\n",
       "       'PROGRAM', 'LEVEL_1', 'LEVEL_2', 'LEVEL_3', 'LEVEL_4', 'LEVEL_5',\n",
       "       'ORGANIC', 'SPECIALTY', 'UNIT', 'REGION', 'STORES_WITH_ADS',\n",
       "       'STORE_OUTLETS', 'FEATURE_RATE', 'SPECIAL_RATE', 'ACTIVITY_INDEX',\n",
       "       'LOCALLY_GROWN_PERCENTAGE', 'WEIGHTED_AVERAGE_PRICE', 'PRICE_LOW',\n",
       "       'PRICE_HIGH', 'PRODUCT_QUALITY'],\n",
       "      dtype='object')"
      ]
     },
     "execution_count": 7,
     "metadata": {},
     "output_type": "execute_result"
    }
   ],
   "source": [
    "# Get more detail on what columns are in the df\n",
    "usda_ams_retail_df.columns"
   ]
  },
  {
   "cell_type": "code",
   "execution_count": 12,
   "metadata": {},
   "outputs": [
    {
     "name": "stdout",
     "output_type": "stream",
     "text": [
      "LEVEL_OF_TRADE               0.000000\n",
      "FREQUENCY                    0.000000\n",
      "ISSUING_OFFICE               0.000000\n",
      "REPORT_DATE                  0.000000\n",
      "PROGRAM                      0.000000\n",
      "LEVEL_1                      0.097223\n",
      "LEVEL_2                      8.058644\n",
      "LEVEL_3                     66.054698\n",
      "LEVEL_4                     66.778009\n",
      "LEVEL_5                     87.909288\n",
      "ORGANIC                     56.398690\n",
      "SPECIALTY                   58.290505\n",
      "UNIT                        11.750140\n",
      "REGION                       0.000000\n",
      "STORES_WITH_ADS             11.854112\n",
      "STORE_OUTLETS               88.249860\n",
      "FEATURE_RATE                93.781300\n",
      "SPECIAL_RATE                97.072425\n",
      "ACTIVITY_INDEX              93.617837\n",
      "LOCALLY_GROWN_PERCENTAGE    99.917057\n",
      "WEIGHTED_AVERAGE_PRICE      11.750159\n",
      "PRICE_LOW                   33.093714\n",
      "PRICE_HIGH                  33.048509\n",
      "PRODUCT_QUALITY             44.232302\n",
      "dtype: float64\n"
     ]
    }
   ],
   "source": [
    "# I'm seeing a lot of NaNs.  What % of each column is NaN?\n",
    "nan_percentage = usda_ams_retail_df.isna().sum() / len(usda_ams_retail_df) * 100\n",
    "print(nan_percentage)"
   ]
  },
  {
   "cell_type": "markdown",
   "metadata": {},
   "source": [
    "### Takeaways:\n",
    "* This dataset appears to have the requisite raw data. \n",
    "* This dataset is large, but it will benefit from dropping unncessary columns and filtering out rows with empty values."
   ]
  }
 ],
 "metadata": {
  "kernelspec": {
   "display_name": "Python 3",
   "language": "python",
   "name": "python3"
  },
  "language_info": {
   "codemirror_mode": {
    "name": "ipython",
    "version": 3
   },
   "file_extension": ".py",
   "mimetype": "text/x-python",
   "name": "python",
   "nbconvert_exporter": "python",
   "pygments_lexer": "ipython3",
   "version": "3.12.4"
  }
 },
 "nbformat": 4,
 "nbformat_minor": 2
}
